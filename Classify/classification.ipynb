{
 "metadata": {
  "language_info": {
   "codemirror_mode": {
    "name": "ipython",
    "version": 3
   },
   "file_extension": ".py",
   "mimetype": "text/x-python",
   "name": "python",
   "nbconvert_exporter": "python",
   "pygments_lexer": "ipython3",
   "version": "3.7.9"
  },
  "orig_nbformat": 2,
  "kernelspec": {
   "name": "python3",
   "display_name": "Python 3.7.9 64-bit",
   "metadata": {
    "interpreter": {
     "hash": "0600588c3b5f4418cbe7b5ebc6825b479f3bc010269d8b60d75058cdd010adfe"
    }
   }
  }
 },
 "nbformat": 4,
 "nbformat_minor": 2,
 "cells": [
  {
   "source": [
    "# 数据导入"
   ],
   "cell_type": "markdown",
   "metadata": {}
  },
  {
   "cell_type": "code",
   "execution_count": 1,
   "metadata": {},
   "outputs": [],
   "source": [
    "# 库导入\n",
    "import pandas as pd\n",
    "import jieba         # 中文分词\n",
    "import re            # 用于正则表达式过滤\n",
    "# from tqdm import tqdm_notebook   # notebook进度条\n",
    "from sklearn.model_selection import train_test_split\n",
    "import csv"
   ]
  },
  {
   "cell_type": "code",
   "execution_count": 2,
   "metadata": {},
   "outputs": [
    {
     "output_type": "execute_result",
     "data": {
      "text/plain": [
       "      电影名    地区      类型 评分  影评投票数  \\\n",
       "0  肖申克的救赎  ?美国?  ?犯罪 剧情  5  17847   \n",
       "1  肖申克的救赎  ?美国?  ?犯罪 剧情  5  30399   \n",
       "2  肖申克的救赎  ?美国?  ?犯罪 剧情  5  19203   \n",
       "3  肖申克的救赎  ?美国?  ?犯罪 剧情  5  14917   \n",
       "4  肖申克的救赎  ?美国?  ?犯罪 剧情  3   1897   \n",
       "\n",
       "                                                  影评  \n",
       "0  当年的奥斯卡颁奖礼上，被如日中天的《阿甘正传》掩盖了它的光彩，而随着时间的推移，这部电影在越...  \n",
       "1                                         不需要女主角的好电影  \n",
       "2                       恐惧让你沦为囚犯，希望让你重获自由。——《肖申克的救赎》  \n",
       "3                                        策划了19年的私奔……  \n",
       "4                               在我的心目中,它一直都是最被高估的电影。  "
      ],
      "text/html": "<div>\n<style scoped>\n    .dataframe tbody tr th:only-of-type {\n        vertical-align: middle;\n    }\n\n    .dataframe tbody tr th {\n        vertical-align: top;\n    }\n\n    .dataframe thead th {\n        text-align: right;\n    }\n</style>\n<table border=\"1\" class=\"dataframe\">\n  <thead>\n    <tr style=\"text-align: right;\">\n      <th></th>\n      <th>电影名</th>\n      <th>地区</th>\n      <th>类型</th>\n      <th>评分</th>\n      <th>影评投票数</th>\n      <th>影评</th>\n    </tr>\n  </thead>\n  <tbody>\n    <tr>\n      <th>0</th>\n      <td>肖申克的救赎</td>\n      <td>?美国?</td>\n      <td>?犯罪 剧情</td>\n      <td>5</td>\n      <td>17847</td>\n      <td>当年的奥斯卡颁奖礼上，被如日中天的《阿甘正传》掩盖了它的光彩，而随着时间的推移，这部电影在越...</td>\n    </tr>\n    <tr>\n      <th>1</th>\n      <td>肖申克的救赎</td>\n      <td>?美国?</td>\n      <td>?犯罪 剧情</td>\n      <td>5</td>\n      <td>30399</td>\n      <td>不需要女主角的好电影</td>\n    </tr>\n    <tr>\n      <th>2</th>\n      <td>肖申克的救赎</td>\n      <td>?美国?</td>\n      <td>?犯罪 剧情</td>\n      <td>5</td>\n      <td>19203</td>\n      <td>恐惧让你沦为囚犯，希望让你重获自由。——《肖申克的救赎》</td>\n    </tr>\n    <tr>\n      <th>3</th>\n      <td>肖申克的救赎</td>\n      <td>?美国?</td>\n      <td>?犯罪 剧情</td>\n      <td>5</td>\n      <td>14917</td>\n      <td>策划了19年的私奔……</td>\n    </tr>\n    <tr>\n      <th>4</th>\n      <td>肖申克的救赎</td>\n      <td>?美国?</td>\n      <td>?犯罪 剧情</td>\n      <td>3</td>\n      <td>1897</td>\n      <td>在我的心目中,它一直都是最被高估的电影。</td>\n    </tr>\n  </tbody>\n</table>\n</div>"
     },
     "metadata": {},
     "execution_count": 2
    }
   ],
   "source": [
    "# 导入数据\n",
    "data = pd.read_excel(\"ProcessedData.xlsx\", names=[\"电影名\",\"地区\",\"类型\",\"评分\",\"影评投票数\",\"影评\"]).astype(str)\n",
    "# 获得评论和得分\n",
    "comments, score, movie_score = data.values[:,5], data.values[:,4], data.values[:,3]\n",
    "data.head()"
   ]
  },
  {
   "cell_type": "code",
   "execution_count": 3,
   "metadata": {},
   "outputs": [],
   "source": [
    "# 获得电影名与电影类型用于停用词\n",
    "movie_name = data.values[:,0]\n",
    "movie_type = []\n",
    "for i in data.values[:,3]:\n",
    "    movie_type += (i.replace('\\xa0','').replace('\\n'+' '*24,'').split(' '))\n",
    "movie_name, movie_type = list(set(movie_name)), list(set(movie_type))\n",
    "movie_name, movie_type\n",
    "\n",
    "def load_stopwords(words, filename):\n",
    "    \"\"\"从词库加载停用词\"\"\"\n",
    "    with open(f'./stopwords/{filename}','r',encoding='UTF-8') as f:\n",
    "        for line in f.readlines():\n",
    "            if line.strip('\\n') not in words:\n",
    "                words.append(line.strip('\\n'))\n",
    "stopwords = []\n",
    "load_stopwords(stopwords, \"stopwords1.txt\")\n",
    "load_stopwords(stopwords, \"stopwords2.txt\")\n",
    "load_stopwords(stopwords, \"stopwords3.txt\")\n",
    "load_stopwords(stopwords, \"stopwords4.txt\")\n",
    "# 停用词库中加上电影名和电影类型\n",
    "stopwords += movie_name + movie_type + [\"电影\"]\n",
    "len(stopwords)\n",
    "\n",
    "def comment_word_cut(text_list, score, stopwords):\n",
    "    \"\"\"对句子做中文分词\"\"\"\n",
    "    result, label = [], []\n",
    "    # for index in tqdm_notebook(range(len(text_list))):\n",
    "    for index in range(len(text_list)):\n",
    "        # 去除特殊符号\n",
    "        text_list[index] = re.sub(\"[0-9a-zA-Z\\-\\s+\\.\\!\\/_,$%^*\\(\\)\\+(+\\\"\\')]+|[+——！，。？、~@#￥%……&*（）<>\\[\\]:：★◆【】《》;；=?？]+\", \"\",\n",
    "                                  text_list[index]).strip()\n",
    "        # 中文分词\n",
    "        seg_list = jieba.cut(text_list[index], cut_all=False, HMM=True)\n",
    "        seg_list = [x.strip('\\n')\n",
    "                    for x in seg_list if x not in stopwords and len(x) > 1]\n",
    "        if len(seg_list) > 1:\n",
    "            result.append(seg_list)\n",
    "            # 添加得分对应的正、反、中标签\n",
    "            if score[index] <= \"2\":\n",
    "                label.append(-1)\n",
    "            elif score[index] >= \"4\":\n",
    "                label.append(1)\n",
    "            else:\n",
    "                label.append(0)\n",
    "    return result, label"
   ]
  },
  {
   "cell_type": "code",
   "execution_count": 4,
   "metadata": {},
   "outputs": [
    {
     "output_type": "stream",
     "name": "stderr",
     "text": [
      "Building prefix dict from the default dictionary ...\n",
      "Loading model from cache C:\\Users\\z2000\\AppData\\Local\\Temp\\jieba.cache\n",
      "Loading model cost 0.542 seconds.\n",
      "Prefix dict has been built successfully.\n"
     ]
    }
   ],
   "source": [
    "# 数据集划分与分词\n",
    "x_train, x_test, y_train, y_test = train_test_split(comments, movie_score, test_size=0.2, random_state=0)\n",
    "train_word_cut, train_label = comment_word_cut(comments, movie_score, stopwords)\n",
    "test_word_cut, test_label = comment_word_cut(x_test, y_test, stopwords)"
   ]
  },
  {
   "cell_type": "code",
   "execution_count": 5,
   "metadata": {},
   "outputs": [
    {
     "output_type": "stream",
     "name": "stdout",
     "text": [
      "vocabulary size: 76840\n"
     ]
    }
   ],
   "source": [
    "# 生成索引词典\n",
    "vocabulary = train_word_cut + test_word_cut\n",
    "word2index = {}\n",
    "vocabulary_count = 0\n",
    "for v in vocabulary:\n",
    "    for w in v:\n",
    "        if w not in word2index:\n",
    "            word2index[w] = vocabulary_count\n",
    "            vocabulary_count += 1\n",
    "print(\"vocabulary size: {}\".format(vocabulary_count))"
   ]
  },
  {
   "cell_type": "code",
   "execution_count": 6,
   "metadata": {},
   "outputs": [],
   "source": [
    "# 根据索引词典Word2index\n",
    "train_index = []\n",
    "for w in train_word_cut:\n",
    "    train_index.append([word2index[v] for v in w])\n",
    "test_index = []\n",
    "for w in test_word_cut:\n",
    "    test_index.append([word2index[v] for v in w])"
   ]
  },
  {
   "source": [
    "# 分类模型"
   ],
   "cell_type": "markdown",
   "metadata": {}
  },
  {
   "cell_type": "code",
   "execution_count": 7,
   "metadata": {},
   "outputs": [],
   "source": [
    "# 库导入\n",
    "# 使用keras搭建模型\n",
    "from keras.preprocessing import sequence\n",
    "from keras.models import Sequential, Model # 序列模型和通用模型\n",
    "from keras.models import load_model\n",
    "from keras.layers import Dense, Embedding, Dropout, LSTM\n",
    "from keras.layers import Input, Conv1D, GlobalMaxPooling1D, Concatenate\n",
    "from keras.callbacks import ModelCheckpoint # 获取效果最好的模型\n",
    "import numpy as np"
   ]
  },
  {
   "cell_type": "code",
   "execution_count": 8,
   "metadata": {},
   "outputs": [],
   "source": [
    "max_features = vocabulary_count # 特征维度即index维度\n",
    "# 将序列转化为经过填充以后的一个长度相同的新序列新序列\n",
    "# maxlen句子的词汇最大长度(不足时在句子前补0)\n",
    "train_index = sequence.pad_sequences(train_index, maxlen=120)\n",
    "test_index = sequence.pad_sequences(test_index, maxlen=120)\n",
    "train_index = np.array(train_index)\n",
    "train_label = np.array(train_label)\n",
    "test_index = np.array(test_index)\n",
    "test_label = np.array(test_label)"
   ]
  },
  {
   "source": [
    "## 基于Sequential的LSTM训练模型"
   ],
   "cell_type": "markdown",
   "metadata": {}
  },
  {
   "cell_type": "code",
   "execution_count": 9,
   "metadata": {},
   "outputs": [
    {
     "output_type": "stream",
     "name": "stdout",
     "text": [
      "Model: \"sequential\"\n_________________________________________________________________\nLayer (type)                 Output Shape              Param #   \n=================================================================\nembedding (Embedding)        (None, None, 128)         9835520   \n_________________________________________________________________\nlstm (LSTM)                  (None, 128)               131584    \n_________________________________________________________________\ndense (Dense)                (None, 32)                4128      \n_________________________________________________________________\ndense_1 (Dense)              (None, 1)                 33        \n=================================================================\nTotal params: 9,971,265\nTrainable params: 9,971,265\nNon-trainable params: 0\n_________________________________________________________________\n"
     ]
    }
   ],
   "source": [
    "# 创建模型\n",
    "model = Sequential([\n",
    "    Embedding(max_features, 128),\n",
    "    LSTM(128, dropout=0.2, recurrent_dropout=0.2),\n",
    "    Dense(32, activation='softmax'),\n",
    "    Dense(1, activation='sigmoid'),\n",
    "])\n",
    "# 编译模型\n",
    "model.compile(loss='binary_crossentropy',\n",
    "              optimizer='adam',\n",
    "              metrics='acc')\n",
    "# 模型概要\n",
    "model.summary()"
   ]
  },
  {
   "source": [
    "model_path = './models/model1-{epoch:02d}.hdf5'\n",
    "checkpointer = ModelCheckpoint(model_path, monitor='val_acc', verbose=1, save_best_only=False, mode='max')\n",
    "model.fit(train_index, train_label, batch_size=32, epochs=30, validation_data=(test_index, test_label), callbacks=[checkpointer]) # batch_size批处理大小，epochs训练轮数，initial_epoch开始训练轮数"
   ],
   "cell_type": "code",
   "metadata": {},
   "execution_count": 10,
   "outputs": [
    {
     "output_type": "stream",
     "name": "stdout",
     "text": [
      "Epoch 1/30\n",
      "1445/1445 [==============================] - 390s 251ms/step - loss: 0.5767 - acc: 0.8205 - val_loss: 0.5481 - val_acc: 0.8257\n",
      "\n",
      "Epoch 00001: saving model to ./models\\model1-01.hdf5\n",
      "Epoch 2/30\n",
      "1445/1445 [==============================] - 369s 256ms/step - loss: 0.5497 - acc: 0.8238 - val_loss: 0.5481 - val_acc: 0.8257\n",
      "\n",
      "Epoch 00002: saving model to ./models\\model1-02.hdf5\n",
      "Epoch 3/30\n",
      "1445/1445 [==============================] - 356s 246ms/step - loss: 0.5502 - acc: 0.8220 - val_loss: 0.5481 - val_acc: 0.8257\n",
      "\n",
      "Epoch 00003: saving model to ./models\\model1-03.hdf5\n",
      "Epoch 4/30\n",
      "1445/1445 [==============================] - 368s 254ms/step - loss: 0.5537 - acc: 0.8206 - val_loss: 0.5481 - val_acc: 0.8257\n",
      "\n",
      "Epoch 00004: saving model to ./models\\model1-04.hdf5\n",
      "Epoch 5/30\n",
      "1445/1445 [==============================] - 352s 244ms/step - loss: 0.5520 - acc: 0.8214 - val_loss: 0.5480 - val_acc: 0.8257\n",
      "\n",
      "Epoch 00005: saving model to ./models\\model1-05.hdf5\n",
      "Epoch 6/30\n",
      "1445/1445 [==============================] - 338s 234ms/step - loss: 0.5560 - acc: 0.8199 - val_loss: 0.5480 - val_acc: 0.8257\n",
      "\n",
      "Epoch 00006: saving model to ./models\\model1-06.hdf5\n",
      "Epoch 7/30\n",
      "1445/1445 [==============================] - 345s 239ms/step - loss: 0.5422 - acc: 0.8275 - val_loss: 0.5483 - val_acc: 0.8257\n",
      "\n",
      "Epoch 00007: saving model to ./models\\model1-07.hdf5\n",
      "Epoch 8/30\n",
      "1445/1445 [==============================] - 396s 274ms/step - loss: 0.5503 - acc: 0.8228 - val_loss: 0.5480 - val_acc: 0.8257\n",
      "\n",
      "Epoch 00008: saving model to ./models\\model1-08.hdf5\n",
      "Epoch 9/30\n",
      "1445/1445 [==============================] - 296s 205ms/step - loss: 0.5449 - acc: 0.8253 - val_loss: 0.5482 - val_acc: 0.8257\n",
      "\n",
      "Epoch 00009: saving model to ./models\\model1-09.hdf5\n",
      "Epoch 10/30\n",
      "1445/1445 [==============================] - 852s 590ms/step - loss: 0.5483 - acc: 0.8241 - val_loss: 0.5481 - val_acc: 0.8257\n",
      "\n",
      "Epoch 00010: saving model to ./models\\model1-10.hdf5\n",
      "Epoch 11/30\n",
      "1445/1445 [==============================] - 298s 206ms/step - loss: 0.5511 - acc: 0.8234 - val_loss: 0.5481 - val_acc: 0.8257\n",
      "\n",
      "Epoch 00011: saving model to ./models\\model1-11.hdf5\n",
      "Epoch 12/30\n",
      "1445/1445 [==============================] - 13913s 10s/step - loss: 0.5496 - acc: 0.8235 - val_loss: 0.5481 - val_acc: 0.8257\n",
      "\n",
      "Epoch 00012: saving model to ./models\\model1-12.hdf5\n",
      "Epoch 13/30\n",
      "1445/1445 [==============================] - 14614s 10s/step - loss: 0.5450 - acc: 0.8245 - val_loss: 0.5481 - val_acc: 0.8257\n",
      "\n",
      "Epoch 00013: saving model to ./models\\model1-13.hdf5\n",
      "Epoch 14/30\n",
      "1445/1445 [==============================] - 308s 213ms/step - loss: 0.5516 - acc: 0.8233 - val_loss: 0.5480 - val_acc: 0.8257\n",
      "\n",
      "Epoch 00014: saving model to ./models\\model1-14.hdf5\n",
      "Epoch 15/30\n",
      "1445/1445 [==============================] - 331s 229ms/step - loss: 0.5494 - acc: 0.8236 - val_loss: 0.5481 - val_acc: 0.8257\n",
      "\n",
      "Epoch 00015: saving model to ./models\\model1-15.hdf5\n",
      "Epoch 16/30\n",
      "1445/1445 [==============================] - 346s 240ms/step - loss: 0.5537 - acc: 0.8213 - val_loss: 0.5481 - val_acc: 0.8257\n",
      "\n",
      "Epoch 00016: saving model to ./models\\model1-16.hdf5\n",
      "Epoch 17/30\n",
      "1445/1445 [==============================] - 381s 264ms/step - loss: 0.5483 - acc: 0.8242 - val_loss: 0.5007 - val_acc: 0.8257\n",
      "\n",
      "Epoch 00017: saving model to ./models\\model1-17.hdf5\n",
      "Epoch 18/30\n",
      "1445/1445 [==============================] - 375s 260ms/step - loss: 0.4778 - acc: 0.8069 - val_loss: 0.3231 - val_acc: 0.8523\n",
      "\n",
      "Epoch 00018: saving model to ./models\\model1-18.hdf5\n",
      "Epoch 19/30\n",
      "1445/1445 [==============================] - 373s 258ms/step - loss: 0.2910 - acc: 0.8526 - val_loss: 0.1571 - val_acc: 0.8771\n",
      "\n",
      "Epoch 00019: saving model to ./models\\model1-19.hdf5\n",
      "Epoch 20/30\n",
      "1445/1445 [==============================] - 376s 260ms/step - loss: 0.1337 - acc: 0.8761 - val_loss: 0.0098 - val_acc: 0.8995\n",
      "\n",
      "Epoch 00020: saving model to ./models\\model1-20.hdf5\n",
      "Epoch 21/30\n",
      "1445/1445 [==============================] - 387s 268ms/step - loss: -0.0027 - acc: 0.8963 - val_loss: -0.1172 - val_acc: 0.9061\n",
      "\n",
      "Epoch 00021: saving model to ./models\\model1-21.hdf5\n",
      "Epoch 22/30\n",
      "1445/1445 [==============================] - 394s 272ms/step - loss: -0.1222 - acc: 0.9075 - val_loss: -0.2372 - val_acc: 0.9127\n",
      "\n",
      "Epoch 00022: saving model to ./models\\model1-22.hdf5\n",
      "Epoch 23/30\n",
      "1445/1445 [==============================] - 395s 273ms/step - loss: -0.2649 - acc: 0.9110 - val_loss: -0.3595 - val_acc: 0.9163\n",
      "\n",
      "Epoch 00023: saving model to ./models\\model1-23.hdf5\n",
      "Epoch 24/30\n",
      "1445/1445 [==============================] - 396s 274ms/step - loss: -0.3722 - acc: 0.9162 - val_loss: -0.4748 - val_acc: 0.9160\n",
      "\n",
      "Epoch 00024: saving model to ./models\\model1-24.hdf5\n",
      "Epoch 25/30\n",
      "1445/1445 [==============================] - 399s 276ms/step - loss: -0.4767 - acc: 0.9187 - val_loss: -0.6208 - val_acc: 0.9215\n",
      "\n",
      "Epoch 00025: saving model to ./models\\model1-25.hdf5\n",
      "Epoch 26/30\n",
      "1445/1445 [==============================] - 404s 280ms/step - loss: -0.6461 - acc: 0.9194 - val_loss: -0.7538 - val_acc: 0.9234\n",
      "\n",
      "Epoch 00026: saving model to ./models\\model1-26.hdf5\n",
      "Epoch 27/30\n",
      "1445/1445 [==============================] - 405s 280ms/step - loss: -0.7871 - acc: 0.9206 - val_loss: -0.8861 - val_acc: 0.9231\n",
      "\n",
      "Epoch 00027: saving model to ./models\\model1-27.hdf5\n",
      "Epoch 28/30\n",
      "1445/1445 [==============================] - 409s 283ms/step - loss: -0.8815 - acc: 0.9245 - val_loss: -1.0189 - val_acc: 0.9255\n",
      "\n",
      "Epoch 00028: saving model to ./models\\model1-28.hdf5\n",
      "Epoch 29/30\n",
      "1445/1445 [==============================] - 406s 281ms/step - loss: -1.0175 - acc: 0.9244 - val_loss: -1.1408 - val_acc: 0.9260\n",
      "\n",
      "Epoch 00029: saving model to ./models\\model1-29.hdf5\n",
      "Epoch 30/30\n",
      "1445/1445 [==============================] - 412s 285ms/step - loss: -1.1390 - acc: 0.9244 - val_loss: -1.2705 - val_acc: 0.9253\n",
      "\n",
      "Epoch 00030: saving model to ./models\\model1-30.hdf5\n"
     ]
    },
    {
     "output_type": "execute_result",
     "data": {
      "text/plain": [
       "<keras.callbacks.History at 0x17aa258e148>"
      ]
     },
     "metadata": {},
     "execution_count": 10
    }
   ]
  },
  {
   "cell_type": "code",
   "execution_count": 35,
   "metadata": {
    "tags": []
   },
   "outputs": [
    {
     "output_type": "stream",
     "name": "stdout",
     "text": [
      "290/290 [==============================] - 5s 14ms/step - loss: -1.1408 - acc: 0.9260\n"
     ]
    },
    {
     "output_type": "execute_result",
     "data": {
      "text/plain": [
       "(array([0.07372176], dtype=float32),\n",
       " 0.9283320722084099,\n",
       " -1.1408004760742188,\n",
       " 0.9259539246559143,\n",
       " 0.9853053434494595)"
      ]
     },
     "metadata": {},
     "execution_count": 35
    },
    {
     "output_type": "display_data",
     "data": {
      "text/plain": "<Figure size 432x288 with 1 Axes>",
      "image/svg+xml": "<?xml version=\"1.0\" encoding=\"utf-8\" standalone=\"no\"?>\r\n<!DOCTYPE svg PUBLIC \"-//W3C//DTD SVG 1.1//EN\"\r\n  \"http://www.w3.org/Graphics/SVG/1.1/DTD/svg11.dtd\">\r\n<svg height=\"248.518125pt\" version=\"1.1\" viewBox=\"0 0 372.103125 248.518125\" width=\"372.103125pt\" xmlns=\"http://www.w3.org/2000/svg\" xmlns:xlink=\"http://www.w3.org/1999/xlink\">\r\n <metadata>\r\n  <rdf:RDF xmlns:cc=\"http://creativecommons.org/ns#\" xmlns:dc=\"http://purl.org/dc/elements/1.1/\" xmlns:rdf=\"http://www.w3.org/1999/02/22-rdf-syntax-ns#\">\r\n   <cc:Work>\r\n    <dc:type rdf:resource=\"http://purl.org/dc/dcmitype/StillImage\"/>\r\n    <dc:date>2021-06-20T16:10:06.788502</dc:date>\r\n    <dc:format>image/svg+xml</dc:format>\r\n    <dc:creator>\r\n     <cc:Agent>\r\n      <dc:title>Matplotlib v3.4.2, https://matplotlib.org/</dc:title>\r\n     </cc:Agent>\r\n    </dc:creator>\r\n   </cc:Work>\r\n  </rdf:RDF>\r\n </metadata>\r\n <defs>\r\n  <style type=\"text/css\">*{stroke-linecap:butt;stroke-linejoin:round;}</style>\r\n </defs>\r\n <g id=\"figure_1\">\r\n  <g id=\"patch_1\">\r\n   <path d=\"M 0 248.518125 \r\nL 372.103125 248.518125 \r\nL 372.103125 0 \r\nL 0 0 \r\nz\r\n\" style=\"fill:none;\"/>\r\n  </g>\r\n  <g id=\"axes_1\">\r\n   <g id=\"patch_2\">\r\n    <path d=\"M 30.103125 224.64 \r\nL 364.903125 224.64 \r\nL 364.903125 7.2 \r\nL 30.103125 7.2 \r\nz\r\n\" style=\"fill:#ffffff;\"/>\r\n   </g>\r\n   <g id=\"matplotlib.axis_1\">\r\n    <g id=\"xtick_1\">\r\n     <g id=\"line2d_1\">\r\n      <defs>\r\n       <path d=\"M 0 0 \r\nL 0 3.5 \r\n\" id=\"m230db2632a\" style=\"stroke:#000000;stroke-width:0.8;\"/>\r\n      </defs>\r\n      <g>\r\n       <use style=\"stroke:#000000;stroke-width:0.8;\" x=\"45.321307\" xlink:href=\"#m230db2632a\" y=\"224.64\"/>\r\n      </g>\r\n     </g>\r\n     <g id=\"text_1\">\r\n      <!-- 0.0 -->\r\n      <g transform=\"translate(37.369744 239.238437)scale(0.1 -0.1)\">\r\n       <defs>\r\n        <path d=\"M 2034 4250 \r\nQ 1547 4250 1301 3770 \r\nQ 1056 3291 1056 2328 \r\nQ 1056 1369 1301 889 \r\nQ 1547 409 2034 409 \r\nQ 2525 409 2770 889 \r\nQ 3016 1369 3016 2328 \r\nQ 3016 3291 2770 3770 \r\nQ 2525 4250 2034 4250 \r\nz\r\nM 2034 4750 \r\nQ 2819 4750 3233 4129 \r\nQ 3647 3509 3647 2328 \r\nQ 3647 1150 3233 529 \r\nQ 2819 -91 2034 -91 \r\nQ 1250 -91 836 529 \r\nQ 422 1150 422 2328 \r\nQ 422 3509 836 4129 \r\nQ 1250 4750 2034 4750 \r\nz\r\n\" id=\"DejaVuSans-30\" transform=\"scale(0.015625)\"/>\r\n        <path d=\"M 684 794 \r\nL 1344 794 \r\nL 1344 0 \r\nL 684 0 \r\nL 684 794 \r\nz\r\n\" id=\"DejaVuSans-2e\" transform=\"scale(0.015625)\"/>\r\n       </defs>\r\n       <use xlink:href=\"#DejaVuSans-30\"/>\r\n       <use x=\"63.623047\" xlink:href=\"#DejaVuSans-2e\"/>\r\n       <use x=\"95.410156\" xlink:href=\"#DejaVuSans-30\"/>\r\n      </g>\r\n     </g>\r\n    </g>\r\n    <g id=\"xtick_2\">\r\n     <g id=\"line2d_2\">\r\n      <g>\r\n       <use style=\"stroke:#000000;stroke-width:0.8;\" x=\"106.194034\" xlink:href=\"#m230db2632a\" y=\"224.64\"/>\r\n      </g>\r\n     </g>\r\n     <g id=\"text_2\">\r\n      <!-- 0.2 -->\r\n      <g transform=\"translate(98.242472 239.238437)scale(0.1 -0.1)\">\r\n       <defs>\r\n        <path d=\"M 1228 531 \r\nL 3431 531 \r\nL 3431 0 \r\nL 469 0 \r\nL 469 531 \r\nQ 828 903 1448 1529 \r\nQ 2069 2156 2228 2338 \r\nQ 2531 2678 2651 2914 \r\nQ 2772 3150 2772 3378 \r\nQ 2772 3750 2511 3984 \r\nQ 2250 4219 1831 4219 \r\nQ 1534 4219 1204 4116 \r\nQ 875 4013 500 3803 \r\nL 500 4441 \r\nQ 881 4594 1212 4672 \r\nQ 1544 4750 1819 4750 \r\nQ 2544 4750 2975 4387 \r\nQ 3406 4025 3406 3419 \r\nQ 3406 3131 3298 2873 \r\nQ 3191 2616 2906 2266 \r\nQ 2828 2175 2409 1742 \r\nQ 1991 1309 1228 531 \r\nz\r\n\" id=\"DejaVuSans-32\" transform=\"scale(0.015625)\"/>\r\n       </defs>\r\n       <use xlink:href=\"#DejaVuSans-30\"/>\r\n       <use x=\"63.623047\" xlink:href=\"#DejaVuSans-2e\"/>\r\n       <use x=\"95.410156\" xlink:href=\"#DejaVuSans-32\"/>\r\n      </g>\r\n     </g>\r\n    </g>\r\n    <g id=\"xtick_3\">\r\n     <g id=\"line2d_3\">\r\n      <g>\r\n       <use style=\"stroke:#000000;stroke-width:0.8;\" x=\"167.066761\" xlink:href=\"#m230db2632a\" y=\"224.64\"/>\r\n      </g>\r\n     </g>\r\n     <g id=\"text_3\">\r\n      <!-- 0.4 -->\r\n      <g transform=\"translate(159.115199 239.238437)scale(0.1 -0.1)\">\r\n       <defs>\r\n        <path d=\"M 2419 4116 \r\nL 825 1625 \r\nL 2419 1625 \r\nL 2419 4116 \r\nz\r\nM 2253 4666 \r\nL 3047 4666 \r\nL 3047 1625 \r\nL 3713 1625 \r\nL 3713 1100 \r\nL 3047 1100 \r\nL 3047 0 \r\nL 2419 0 \r\nL 2419 1100 \r\nL 313 1100 \r\nL 313 1709 \r\nL 2253 4666 \r\nz\r\n\" id=\"DejaVuSans-34\" transform=\"scale(0.015625)\"/>\r\n       </defs>\r\n       <use xlink:href=\"#DejaVuSans-30\"/>\r\n       <use x=\"63.623047\" xlink:href=\"#DejaVuSans-2e\"/>\r\n       <use x=\"95.410156\" xlink:href=\"#DejaVuSans-34\"/>\r\n      </g>\r\n     </g>\r\n    </g>\r\n    <g id=\"xtick_4\">\r\n     <g id=\"line2d_4\">\r\n      <g>\r\n       <use style=\"stroke:#000000;stroke-width:0.8;\" x=\"227.939489\" xlink:href=\"#m230db2632a\" y=\"224.64\"/>\r\n      </g>\r\n     </g>\r\n     <g id=\"text_4\">\r\n      <!-- 0.6 -->\r\n      <g transform=\"translate(219.987926 239.238437)scale(0.1 -0.1)\">\r\n       <defs>\r\n        <path d=\"M 2113 2584 \r\nQ 1688 2584 1439 2293 \r\nQ 1191 2003 1191 1497 \r\nQ 1191 994 1439 701 \r\nQ 1688 409 2113 409 \r\nQ 2538 409 2786 701 \r\nQ 3034 994 3034 1497 \r\nQ 3034 2003 2786 2293 \r\nQ 2538 2584 2113 2584 \r\nz\r\nM 3366 4563 \r\nL 3366 3988 \r\nQ 3128 4100 2886 4159 \r\nQ 2644 4219 2406 4219 \r\nQ 1781 4219 1451 3797 \r\nQ 1122 3375 1075 2522 \r\nQ 1259 2794 1537 2939 \r\nQ 1816 3084 2150 3084 \r\nQ 2853 3084 3261 2657 \r\nQ 3669 2231 3669 1497 \r\nQ 3669 778 3244 343 \r\nQ 2819 -91 2113 -91 \r\nQ 1303 -91 875 529 \r\nQ 447 1150 447 2328 \r\nQ 447 3434 972 4092 \r\nQ 1497 4750 2381 4750 \r\nQ 2619 4750 2861 4703 \r\nQ 3103 4656 3366 4563 \r\nz\r\n\" id=\"DejaVuSans-36\" transform=\"scale(0.015625)\"/>\r\n       </defs>\r\n       <use xlink:href=\"#DejaVuSans-30\"/>\r\n       <use x=\"63.623047\" xlink:href=\"#DejaVuSans-2e\"/>\r\n       <use x=\"95.410156\" xlink:href=\"#DejaVuSans-36\"/>\r\n      </g>\r\n     </g>\r\n    </g>\r\n    <g id=\"xtick_5\">\r\n     <g id=\"line2d_5\">\r\n      <g>\r\n       <use style=\"stroke:#000000;stroke-width:0.8;\" x=\"288.812216\" xlink:href=\"#m230db2632a\" y=\"224.64\"/>\r\n      </g>\r\n     </g>\r\n     <g id=\"text_5\">\r\n      <!-- 0.8 -->\r\n      <g transform=\"translate(280.860653 239.238437)scale(0.1 -0.1)\">\r\n       <defs>\r\n        <path d=\"M 2034 2216 \r\nQ 1584 2216 1326 1975 \r\nQ 1069 1734 1069 1313 \r\nQ 1069 891 1326 650 \r\nQ 1584 409 2034 409 \r\nQ 2484 409 2743 651 \r\nQ 3003 894 3003 1313 \r\nQ 3003 1734 2745 1975 \r\nQ 2488 2216 2034 2216 \r\nz\r\nM 1403 2484 \r\nQ 997 2584 770 2862 \r\nQ 544 3141 544 3541 \r\nQ 544 4100 942 4425 \r\nQ 1341 4750 2034 4750 \r\nQ 2731 4750 3128 4425 \r\nQ 3525 4100 3525 3541 \r\nQ 3525 3141 3298 2862 \r\nQ 3072 2584 2669 2484 \r\nQ 3125 2378 3379 2068 \r\nQ 3634 1759 3634 1313 \r\nQ 3634 634 3220 271 \r\nQ 2806 -91 2034 -91 \r\nQ 1263 -91 848 271 \r\nQ 434 634 434 1313 \r\nQ 434 1759 690 2068 \r\nQ 947 2378 1403 2484 \r\nz\r\nM 1172 3481 \r\nQ 1172 3119 1398 2916 \r\nQ 1625 2713 2034 2713 \r\nQ 2441 2713 2670 2916 \r\nQ 2900 3119 2900 3481 \r\nQ 2900 3844 2670 4047 \r\nQ 2441 4250 2034 4250 \r\nQ 1625 4250 1398 4047 \r\nQ 1172 3844 1172 3481 \r\nz\r\n\" id=\"DejaVuSans-38\" transform=\"scale(0.015625)\"/>\r\n       </defs>\r\n       <use xlink:href=\"#DejaVuSans-30\"/>\r\n       <use x=\"63.623047\" xlink:href=\"#DejaVuSans-2e\"/>\r\n       <use x=\"95.410156\" xlink:href=\"#DejaVuSans-38\"/>\r\n      </g>\r\n     </g>\r\n    </g>\r\n    <g id=\"xtick_6\">\r\n     <g id=\"line2d_6\">\r\n      <g>\r\n       <use style=\"stroke:#000000;stroke-width:0.8;\" x=\"349.684943\" xlink:href=\"#m230db2632a\" y=\"224.64\"/>\r\n      </g>\r\n     </g>\r\n     <g id=\"text_6\">\r\n      <!-- 1.0 -->\r\n      <g transform=\"translate(341.733381 239.238437)scale(0.1 -0.1)\">\r\n       <defs>\r\n        <path d=\"M 794 531 \r\nL 1825 531 \r\nL 1825 4091 \r\nL 703 3866 \r\nL 703 4441 \r\nL 1819 4666 \r\nL 2450 4666 \r\nL 2450 531 \r\nL 3481 531 \r\nL 3481 0 \r\nL 794 0 \r\nL 794 531 \r\nz\r\n\" id=\"DejaVuSans-31\" transform=\"scale(0.015625)\"/>\r\n       </defs>\r\n       <use xlink:href=\"#DejaVuSans-31\"/>\r\n       <use x=\"63.623047\" xlink:href=\"#DejaVuSans-2e\"/>\r\n       <use x=\"95.410156\" xlink:href=\"#DejaVuSans-30\"/>\r\n      </g>\r\n     </g>\r\n    </g>\r\n   </g>\r\n   <g id=\"matplotlib.axis_2\">\r\n    <g id=\"ytick_1\">\r\n     <g id=\"line2d_7\">\r\n      <defs>\r\n       <path d=\"M 0 0 \r\nL -3.5 0 \r\n\" id=\"m1be7b236e3\" style=\"stroke:#000000;stroke-width:0.8;\"/>\r\n      </defs>\r\n      <g>\r\n       <use style=\"stroke:#000000;stroke-width:0.8;\" x=\"30.103125\" xlink:href=\"#m1be7b236e3\" y=\"214.756364\"/>\r\n      </g>\r\n     </g>\r\n     <g id=\"text_7\">\r\n      <!-- 0.0 -->\r\n      <g transform=\"translate(7.2 218.555582)scale(0.1 -0.1)\">\r\n       <use xlink:href=\"#DejaVuSans-30\"/>\r\n       <use x=\"63.623047\" xlink:href=\"#DejaVuSans-2e\"/>\r\n       <use x=\"95.410156\" xlink:href=\"#DejaVuSans-30\"/>\r\n      </g>\r\n     </g>\r\n    </g>\r\n    <g id=\"ytick_2\">\r\n     <g id=\"line2d_8\">\r\n      <g>\r\n       <use style=\"stroke:#000000;stroke-width:0.8;\" x=\"30.103125\" xlink:href=\"#m1be7b236e3\" y=\"175.221818\"/>\r\n      </g>\r\n     </g>\r\n     <g id=\"text_8\">\r\n      <!-- 0.2 -->\r\n      <g transform=\"translate(7.2 179.021037)scale(0.1 -0.1)\">\r\n       <use xlink:href=\"#DejaVuSans-30\"/>\r\n       <use x=\"63.623047\" xlink:href=\"#DejaVuSans-2e\"/>\r\n       <use x=\"95.410156\" xlink:href=\"#DejaVuSans-32\"/>\r\n      </g>\r\n     </g>\r\n    </g>\r\n    <g id=\"ytick_3\">\r\n     <g id=\"line2d_9\">\r\n      <g>\r\n       <use style=\"stroke:#000000;stroke-width:0.8;\" x=\"30.103125\" xlink:href=\"#m1be7b236e3\" y=\"135.687273\"/>\r\n      </g>\r\n     </g>\r\n     <g id=\"text_9\">\r\n      <!-- 0.4 -->\r\n      <g transform=\"translate(7.2 139.486491)scale(0.1 -0.1)\">\r\n       <use xlink:href=\"#DejaVuSans-30\"/>\r\n       <use x=\"63.623047\" xlink:href=\"#DejaVuSans-2e\"/>\r\n       <use x=\"95.410156\" xlink:href=\"#DejaVuSans-34\"/>\r\n      </g>\r\n     </g>\r\n    </g>\r\n    <g id=\"ytick_4\">\r\n     <g id=\"line2d_10\">\r\n      <g>\r\n       <use style=\"stroke:#000000;stroke-width:0.8;\" x=\"30.103125\" xlink:href=\"#m1be7b236e3\" y=\"96.152727\"/>\r\n      </g>\r\n     </g>\r\n     <g id=\"text_10\">\r\n      <!-- 0.6 -->\r\n      <g transform=\"translate(7.2 99.951946)scale(0.1 -0.1)\">\r\n       <use xlink:href=\"#DejaVuSans-30\"/>\r\n       <use x=\"63.623047\" xlink:href=\"#DejaVuSans-2e\"/>\r\n       <use x=\"95.410156\" xlink:href=\"#DejaVuSans-36\"/>\r\n      </g>\r\n     </g>\r\n    </g>\r\n    <g id=\"ytick_5\">\r\n     <g id=\"line2d_11\">\r\n      <g>\r\n       <use style=\"stroke:#000000;stroke-width:0.8;\" x=\"30.103125\" xlink:href=\"#m1be7b236e3\" y=\"56.618182\"/>\r\n      </g>\r\n     </g>\r\n     <g id=\"text_11\">\r\n      <!-- 0.8 -->\r\n      <g transform=\"translate(7.2 60.417401)scale(0.1 -0.1)\">\r\n       <use xlink:href=\"#DejaVuSans-30\"/>\r\n       <use x=\"63.623047\" xlink:href=\"#DejaVuSans-2e\"/>\r\n       <use x=\"95.410156\" xlink:href=\"#DejaVuSans-38\"/>\r\n      </g>\r\n     </g>\r\n    </g>\r\n    <g id=\"ytick_6\">\r\n     <g id=\"line2d_12\">\r\n      <g>\r\n       <use style=\"stroke:#000000;stroke-width:0.8;\" x=\"30.103125\" xlink:href=\"#m1be7b236e3\" y=\"17.083636\"/>\r\n      </g>\r\n     </g>\r\n     <g id=\"text_12\">\r\n      <!-- 1.0 -->\r\n      <g transform=\"translate(7.2 20.882855)scale(0.1 -0.1)\">\r\n       <use xlink:href=\"#DejaVuSans-31\"/>\r\n       <use x=\"63.623047\" xlink:href=\"#DejaVuSans-2e\"/>\r\n       <use x=\"95.410156\" xlink:href=\"#DejaVuSans-30\"/>\r\n      </g>\r\n     </g>\r\n    </g>\r\n   </g>\r\n   <g id=\"line2d_13\">\r\n    <path clip-path=\"url(#p07e7a9e52b)\" d=\"M 45.321307 214.756364 \r\nL 45.321307 214.238828 \r\nL 45.510118 214.187074 \r\nL 45.698929 213.514278 \r\nL 45.698929 212.867359 \r\nL 45.88774 212.608591 \r\nL 45.88774 207.329728 \r\nL 46.076552 205.751244 \r\nL 46.076552 200.782902 \r\nL 46.265363 200.032475 \r\nL 46.265363 199.540817 \r\nL 46.454174 199.230295 \r\nL 46.454174 196.849631 \r\nL 46.642985 196.590864 \r\nL 46.642985 191.700152 \r\nL 46.831796 191.053233 \r\nL 46.831796 187.197592 \r\nL 47.020608 186.990578 \r\nL 47.020608 160.156356 \r\nL 47.39823 159.845835 \r\nL 47.39823 155.188015 \r\nL 47.587041 154.592849 \r\nL 47.587041 154.308204 \r\nL 47.775852 153.764792 \r\nL 47.775852 142.249624 \r\nL 47.964663 141.939103 \r\nL 47.964663 141.628582 \r\nL 48.153475 141.136923 \r\nL 48.153475 134.201946 \r\nL 48.342286 133.865547 \r\nL 48.342286 129.440618 \r\nL 48.531097 129.311234 \r\nL 48.531097 127.939765 \r\nL 48.719908 127.810381 \r\nL 48.719908 124.472276 \r\nL 48.908719 124.291139 \r\nL 48.908719 119.840332 \r\nL 49.097531 119.685072 \r\nL 49.097531 97.43104 \r\nL 49.286342 97.35341 \r\nL 49.286342 83.84573 \r\nL 49.475153 83.84573 \r\nL 49.475153 83.7681 \r\nL 49.475153 83.535209 \r\nL 49.663964 83.535209 \r\nL 49.663964 83.457579 \r\nL 49.663964 78.023455 \r\nL 49.852775 78.023455 \r\nL 49.852775 77.945824 \r\nL 49.852775 77.01426 \r\nL 50.041587 77.01426 \r\nL 50.041587 73.313881 \r\nL 50.230398 73.313881 \r\nL 50.230398 73.210374 \r\nL 50.230398 72.485824 \r\nL 50.419209 72.485824 \r\nL 50.419209 72.43407 \r\nL 50.419209 62.963168 \r\nL 50.60802 62.963168 \r\nL 50.60802 62.885538 \r\nL 50.60802 61.669329 \r\nL 50.985642 61.565822 \r\nL 50.985642 59.806201 \r\nL 51.174454 59.806201 \r\nL 51.174454 58.952267 \r\nL 51.363265 58.952267 \r\nL 51.363265 58.84876 \r\nL 51.363265 54.99312 \r\nL 51.552076 54.99312 \r\nL 51.552076 51.29274 \r\nL 51.740887 51.29274 \r\nL 51.740887 51.189233 \r\nL 51.740887 50.309423 \r\nL 51.929698 50.309423 \r\nL 51.929698 45.573972 \r\nL 52.11851 45.573972 \r\nL 52.11851 44.849422 \r\nL 52.307321 44.849422 \r\nL 52.307321 44.331886 \r\nL 52.496132 44.331886 \r\nL 52.496132 42.13236 \r\nL 52.684943 42.13236 \r\nL 52.684943 41.951223 \r\nL 52.873754 41.951223 \r\nL 52.873754 41.563071 \r\nL 53.062566 41.563071 \r\nL 53.062566 41.252549 \r\nL 53.440188 41.252549 \r\nL 53.440188 39.932834 \r\nL 53.628999 39.932834 \r\nL 53.628999 38.768379 \r\nL 53.81781 38.768379 \r\nL 53.81781 36.413591 \r\nL 54.006622 36.413591 \r\nL 54.006622 35.22326 \r\nL 54.195433 35.22326 \r\nL 54.195433 34.912738 \r\nL 54.384244 34.912738 \r\nL 54.384244 34.136435 \r\nL 54.573055 34.136435 \r\nL 54.573055 31.60051 \r\nL 54.950677 31.60051 \r\nL 54.950677 31.393496 \r\nL 55.139489 31.393496 \r\nL 55.139489 30.332548 \r\nL 55.3283 30.332548 \r\nL 55.3283 28.314159 \r\nL 55.705922 28.210652 \r\nL 55.705922 27.563733 \r\nL 55.894733 27.563733 \r\nL 55.894733 27.072074 \r\nL 56.083545 27.072074 \r\nL 56.083545 26.994443 \r\nL 56.083545 26.451031 \r\nL 56.272356 26.451031 \r\nL 56.272356 25.700604 \r\nL 56.649978 25.648851 \r\nL 56.649978 24.173874 \r\nL 56.838789 24.173874 \r\nL 56.838789 24.070367 \r\nL 56.838789 23.733969 \r\nL 57.027601 23.733969 \r\nL 57.027601 23.16468 \r\nL 57.216412 23.16468 \r\nL 57.216412 23.035296 \r\nL 57.405223 23.035296 \r\nL 57.405223 22.880035 \r\nL 57.594034 22.880035 \r\nL 57.594034 22.647144 \r\nL 57.782845 22.647144 \r\nL 57.782845 20.732262 \r\nL 58.160468 20.680509 \r\nL 58.160468 20.602879 \r\nL 58.349279 20.602879 \r\nL 58.349279 20.26648 \r\nL 58.53809 20.26648 \r\nL 58.53809 20.137096 \r\nL 58.726901 20.137096 \r\nL 58.726901 19.955959 \r\nL 59.104524 19.826575 \r\nL 59.104524 19.567807 \r\nL 59.293335 19.567807 \r\nL 59.293335 19.412547 \r\nL 59.670957 19.38667 \r\nL 59.670957 19.231409 \r\nL 59.859768 19.127902 \r\nL 59.859768 18.765627 \r\nL 60.426202 18.66212 \r\nL 60.426202 18.532736 \r\nL 60.615013 18.506859 \r\nL 60.615013 18.273968 \r\nL 60.992635 18.170461 \r\nL 60.992635 18.118708 \r\nL 61.370258 18.092831 \r\nL 61.370258 17.911693 \r\nL 61.936691 17.85994 \r\nL 61.936691 17.756433 \r\nL 63.069559 17.652926 \r\nL 63.069559 17.575295 \r\nL 118.580048 17.471788 \r\nL 118.768859 17.445911 \r\nL 174.46816 17.342404 \r\nL 174.46816 17.316527 \r\nL 273.594034 17.238897 \r\nL 349.684943 17.083636 \r\nL 349.684943 17.083636 \r\n\" style=\"fill:none;stroke:#1f77b4;stroke-linecap:square;stroke-width:1.5;\"/>\r\n   </g>\r\n   <g id=\"patch_3\">\r\n    <path d=\"M 30.103125 224.64 \r\nL 30.103125 7.2 \r\n\" style=\"fill:none;stroke:#000000;stroke-linecap:square;stroke-linejoin:miter;stroke-width:0.8;\"/>\r\n   </g>\r\n   <g id=\"patch_4\">\r\n    <path d=\"M 364.903125 224.64 \r\nL 364.903125 7.2 \r\n\" style=\"fill:none;stroke:#000000;stroke-linecap:square;stroke-linejoin:miter;stroke-width:0.8;\"/>\r\n   </g>\r\n   <g id=\"patch_5\">\r\n    <path d=\"M 30.103125 224.64 \r\nL 364.903125 224.64 \r\n\" style=\"fill:none;stroke:#000000;stroke-linecap:square;stroke-linejoin:miter;stroke-width:0.8;\"/>\r\n   </g>\r\n   <g id=\"patch_6\">\r\n    <path d=\"M 30.103125 7.2 \r\nL 364.903125 7.2 \r\n\" style=\"fill:none;stroke:#000000;stroke-linecap:square;stroke-linejoin:miter;stroke-width:0.8;\"/>\r\n   </g>\r\n  </g>\r\n </g>\r\n <defs>\r\n  <clipPath id=\"p07e7a9e52b\">\r\n   <rect height=\"217.44\" width=\"334.8\" x=\"30.103125\" y=\"7.2\"/>\r\n  </clipPath>\r\n </defs>\r\n</svg>\r\n",
      "image/png": "[encoded data removed]"
     },
     "metadata": {
      "needs_background": "light"
     }
    }
   ],
   "source": [
    "# # x_train3, x_test3, y_train3, y_test3 = train_test_split(x_train, y_train, test_size=0.2, random_state=0)\n",
    "# # test_word_cut3, test_label3 = comment_word_cut(x_test3, y_test3, stopwords)\n",
    "# # test_index3 = []\n",
    "# # for w in test_word_cut3:\n",
    "# #     test_index3.append([word2index[v] for v in w])\n",
    "# # test_index3 = sequence.pad_sequences(test_index3, maxlen=120)\n",
    "# # test_index3 = np.array(test_index3)\n",
    "from sklearn.metrics import roc_curve, roc_auc_score, auc, plot_roc_curve\n",
    "# # 预测\n",
    "modelnew1 = load_model('./models/model1-29.hdf5')\n",
    "predict_label = modelnew1.predict(test_index)\n",
    "acc = 0.0\n",
    "# acc2 = 0.0\n",
    "loss = 0.0\n",
    "#predict_labelmy = []\n",
    "for i in range(0,len(predict_label)):\n",
    "    # print(test_label[i])\n",
    "    # print(predict_label[i])\n",
    "    if predict_label[i] < 1.2803e-09:\n",
    "        predict_label[i] = -1\n",
    "    elif predict_label[i] < 0.76445735:\n",
    "        predict_label[i] = 0\n",
    "    else:\n",
    "        predict_label[i] = 1\n",
    "    # print(predict_label[i])\n",
    "    # if test_label[i] == 1:\n",
    "    #     acc2 += 1\n",
    "    if predict_label[i] == test_label[i]:\n",
    "        acc += 1\n",
    "    if predict_label[i] > test_label[i]:\n",
    "        loss += predict_label[i] - test_label[i]\n",
    "    else:\n",
    "        loss += test_label[i] - predict_label[i]\n",
    "# # 评估模型\n",
    "loss2, accuracy2 = modelnew1.evaluate(test_index, test_label, batch_size=32)\n",
    "loss = loss/len(predict_label)\n",
    "acc = acc/len(predict_label)\n",
    "predict_label = np.array(predict_label)\n",
    "#auc1 = roc_auc_score(test_label,predict_label,multi_class='ovo')\n",
    "# acc2 = acc2/len(predict_label)\n",
    "fpr,tpr,thr = roc_curve(test_label,modelnew1.predict(test_index), pos_label=1)\n",
    "auc1 = auc(fpr,tpr)\n",
    "plt.plot(fpr,tpr)\n",
    "loss, acc, loss2, accuracy2, auc1"
   ]
  },
  {
   "source": [
    "## 基于Model的TextCNN训练模型"
   ],
   "cell_type": "markdown",
   "metadata": {}
  },
  {
   "cell_type": "code",
   "execution_count": 12,
   "metadata": {},
   "outputs": [
    {
     "output_type": "stream",
     "name": "stdout",
     "text": [
      "Model: \"model\"\n__________________________________________________________________________________________________\nLayer (type)                    Output Shape         Param #     Connected to                     \n==================================================================================================\ninput_1 (InputLayer)            [(None, 120)]        0                                            \n__________________________________________________________________________________________________\nembedding_1 (Embedding)         (None, 120, 256)     19671040    input_1[0][0]                    \n__________________________________________________________________________________________________\nconv1d (Conv1D)                 (None, 118, 256)     196864      embedding_1[0][0]                \n__________________________________________________________________________________________________\nconv1d_1 (Conv1D)               (None, 117, 256)     262400      embedding_1[0][0]                \n__________________________________________________________________________________________________\nconv1d_2 (Conv1D)               (None, 116, 256)     327936      embedding_1[0][0]                \n__________________________________________________________________________________________________\nglobal_max_pooling1d (GlobalMax (None, 256)          0           conv1d[0][0]                     \n__________________________________________________________________________________________________\nglobal_max_pooling1d_1 (GlobalM (None, 256)          0           conv1d_1[0][0]                   \n__________________________________________________________________________________________________\nglobal_max_pooling1d_2 (GlobalM (None, 256)          0           conv1d_2[0][0]                   \n__________________________________________________________________________________________________\nconcatenate (Concatenate)       (None, 768)          0           global_max_pooling1d[0][0]       \n                                                                 global_max_pooling1d_1[0][0]     \n                                                                 global_max_pooling1d_2[0][0]     \n__________________________________________________________________________________________________\ndense_2 (Dense)                 (None, 64)           49216       concatenate[0][0]                \n__________________________________________________________________________________________________\ndense_3 (Dense)                 (None, 1)            65          dense_2[0][0]                    \n==================================================================================================\nTotal params: 20,507,521\nTrainable params: 20,507,521\nNon-trainable params: 0\n__________________________________________________________________________________________________\n"
     ]
    }
   ],
   "source": [
    "# 创建模型\n",
    "input = Input(shape=(120,))\n",
    "embedding = Embedding(max_features, 256, input_length=120)(input) # 嵌入\n",
    "convs = []\n",
    "for kernel_size in [3, 4, 5]:\n",
    "    conv = Conv1D(256, kernel_size, activation='relu')(embedding) # 卷积\n",
    "    conv = GlobalMaxPooling1D()(conv) # 池化\n",
    "    convs.append(conv)\n",
    "x = Concatenate()(convs) # 连接\n",
    "dense = Dense(64, activation='softmax')(x)\n",
    "output = Dense(1, activation=\"sigmoid\")(dense)\n",
    "model2 = Model(inputs=input, outputs=output)\n",
    "model2.compile(loss='binary_crossentropy', optimizer='adam', metrics=['acc'])\n",
    "model2.summary()"
   ]
  },
  {
   "cell_type": "code",
   "execution_count": 13,
   "metadata": {},
   "outputs": [
    {
     "output_type": "stream",
     "name": "stdout",
     "text": [
      "Epoch 1/30\n",
      "1445/1445 [==============================] - 408s 279ms/step - loss: 0.5794 - acc: 0.8224 - val_loss: 0.5481 - val_acc: 0.8257\n",
      "\n",
      "Epoch 00001: saving model to ./models\\model2-01.hdf5\n",
      "Epoch 2/30\n",
      "1445/1445 [==============================] - 411s 285ms/step - loss: 0.5548 - acc: 0.8211 - val_loss: 0.5480 - val_acc: 0.8257\n",
      "\n",
      "Epoch 00002: saving model to ./models\\model2-02.hdf5\n",
      "Epoch 3/30\n",
      "1445/1445 [==============================] - 398s 275ms/step - loss: 0.5464 - acc: 0.8248 - val_loss: 0.5480 - val_acc: 0.8257\n",
      "\n",
      "Epoch 00003: saving model to ./models\\model2-03.hdf5\n",
      "Epoch 4/30\n",
      "1445/1445 [==============================] - 414s 286ms/step - loss: 0.5510 - acc: 0.8223 - val_loss: 0.5480 - val_acc: 0.8257\n",
      "\n",
      "Epoch 00004: saving model to ./models\\model2-04.hdf5\n",
      "Epoch 5/30\n",
      "1445/1445 [==============================] - 409s 283ms/step - loss: 0.5522 - acc: 0.8213 - val_loss: 0.5480 - val_acc: 0.8257\n",
      "\n",
      "Epoch 00005: saving model to ./models\\model2-05.hdf5\n",
      "Epoch 6/30\n",
      "1445/1445 [==============================] - 409s 283ms/step - loss: 0.5511 - acc: 0.8222 - val_loss: 0.5480 - val_acc: 0.8257\n",
      "\n",
      "Epoch 00006: saving model to ./models\\model2-06.hdf5\n",
      "Epoch 7/30\n",
      "1445/1445 [==============================] - 404s 280ms/step - loss: 0.5522 - acc: 0.8224 - val_loss: 0.5480 - val_acc: 0.8257\n",
      "\n",
      "Epoch 00007: saving model to ./models\\model2-07.hdf5\n",
      "Epoch 8/30\n",
      "1445/1445 [==============================] - 434s 300ms/step - loss: 0.5467 - acc: 0.8251 - val_loss: 0.5482 - val_acc: 0.8257\n",
      "\n",
      "Epoch 00008: saving model to ./models\\model2-08.hdf5\n",
      "Epoch 9/30\n",
      "1445/1445 [==============================] - 437s 302ms/step - loss: 0.5549 - acc: 0.8202 - val_loss: 0.5481 - val_acc: 0.8257\n",
      "\n",
      "Epoch 00009: saving model to ./models\\model2-09.hdf5\n",
      "Epoch 10/30\n",
      "1445/1445 [==============================] - 428s 296ms/step - loss: 0.5499 - acc: 0.8235 - val_loss: 0.5480 - val_acc: 0.8257\n",
      "\n",
      "Epoch 00010: saving model to ./models\\model2-10.hdf5\n",
      "Epoch 11/30\n",
      "1445/1445 [==============================] - 417s 289ms/step - loss: 0.5517 - acc: 0.8229 - val_loss: 0.5481 - val_acc: 0.8257\n",
      "\n",
      "Epoch 00011: saving model to ./models\\model2-11.hdf5\n",
      "Epoch 12/30\n",
      "1445/1445 [==============================] - 419s 290ms/step - loss: 0.5452 - acc: 0.8251 - val_loss: 0.5480 - val_acc: 0.8257\n",
      "\n",
      "Epoch 00012: saving model to ./models\\model2-12.hdf5\n",
      "Epoch 13/30\n",
      "1445/1445 [==============================] - 442s 306ms/step - loss: 0.5540 - acc: 0.8211 - val_loss: 0.5480 - val_acc: 0.8257\n",
      "\n",
      "Epoch 00013: saving model to ./models\\model2-13.hdf5\n",
      "Epoch 14/30\n",
      "1445/1445 [==============================] - 440s 304ms/step - loss: 0.5503 - acc: 0.8225 - val_loss: 0.5481 - val_acc: 0.8257\n",
      "\n",
      "Epoch 00014: saving model to ./models\\model2-14.hdf5\n",
      "Epoch 15/30\n",
      "1445/1445 [==============================] - 445s 308ms/step - loss: 0.5569 - acc: 0.8188 - val_loss: 0.5480 - val_acc: 0.8257\n",
      "\n",
      "Epoch 00015: saving model to ./models\\model2-15.hdf5\n",
      "Epoch 16/30\n",
      "1445/1445 [==============================] - 449s 311ms/step - loss: 0.5508 - acc: 0.8223 - val_loss: 0.5480 - val_acc: 0.8257\n",
      "\n",
      "Epoch 00016: saving model to ./models\\model2-16.hdf5\n",
      "Epoch 17/30\n",
      "1445/1445 [==============================] - 451s 312ms/step - loss: 0.5475 - acc: 0.8240 - val_loss: 0.5480 - val_acc: 0.8257\n",
      "\n",
      "Epoch 00017: saving model to ./models\\model2-17.hdf5\n",
      "Epoch 18/30\n",
      "1445/1445 [==============================] - 441s 305ms/step - loss: 0.5539 - acc: 0.8204 - val_loss: 0.5481 - val_acc: 0.8257\n",
      "\n",
      "Epoch 00018: saving model to ./models\\model2-18.hdf5\n",
      "Epoch 19/30\n",
      "1445/1445 [==============================] - 427s 296ms/step - loss: 0.5536 - acc: 0.8212 - val_loss: 0.5481 - val_acc: 0.8257\n",
      "\n",
      "Epoch 00019: saving model to ./models\\model2-19.hdf5\n",
      "Epoch 20/30\n",
      "1445/1445 [==============================] - 416s 288ms/step - loss: 0.5506 - acc: 0.8223 - val_loss: 0.5480 - val_acc: 0.8257\n",
      "\n",
      "Epoch 00020: saving model to ./models\\model2-20.hdf5\n",
      "Epoch 21/30\n",
      "1445/1445 [==============================] - 430s 298ms/step - loss: 0.5536 - acc: 0.8214 - val_loss: 0.5480 - val_acc: 0.8257\n",
      "\n",
      "Epoch 00021: saving model to ./models\\model2-21.hdf5\n",
      "Epoch 22/30\n",
      "1445/1445 [==============================] - 428s 296ms/step - loss: 0.5513 - acc: 0.8231 - val_loss: 0.5481 - val_acc: 0.8257\n",
      "\n",
      "Epoch 00022: saving model to ./models\\model2-22.hdf5\n",
      "Epoch 23/30\n",
      "1445/1445 [==============================] - 439s 304ms/step - loss: 0.5537 - acc: 0.8215 - val_loss: 0.5481 - val_acc: 0.8257\n",
      "\n",
      "Epoch 00023: saving model to ./models\\model2-23.hdf5\n",
      "Epoch 24/30\n",
      "1445/1445 [==============================] - 471s 326ms/step - loss: 0.5502 - acc: 0.8235 - val_loss: 0.5480 - val_acc: 0.8257\n",
      "\n",
      "Epoch 00024: saving model to ./models\\model2-24.hdf5\n",
      "Epoch 25/30\n",
      "1445/1445 [==============================] - 461s 319ms/step - loss: 0.5547 - acc: 0.8211 - val_loss: 0.5480 - val_acc: 0.8257\n",
      "\n",
      "Epoch 00025: saving model to ./models\\model2-25.hdf5\n",
      "Epoch 26/30\n",
      "1445/1445 [==============================] - 467s 323ms/step - loss: 0.5507 - acc: 0.8236 - val_loss: 0.5481 - val_acc: 0.8257\n",
      "\n",
      "Epoch 00026: saving model to ./models\\model2-26.hdf5\n",
      "Epoch 27/30\n",
      "1445/1445 [==============================] - 431s 298ms/step - loss: 0.5475 - acc: 0.8247 - val_loss: 0.5481 - val_acc: 0.8257\n",
      "\n",
      "Epoch 00027: saving model to ./models\\model2-27.hdf5\n",
      "Epoch 28/30\n",
      "1445/1445 [==============================] - 459s 318ms/step - loss: 0.5593 - acc: 0.8188 - val_loss: 0.5481 - val_acc: 0.8257\n",
      "\n",
      "Epoch 00028: saving model to ./models\\model2-28.hdf5\n",
      "Epoch 29/30\n",
      "1445/1445 [==============================] - 467s 323ms/step - loss: 0.5481 - acc: 0.8242 - val_loss: 0.5481 - val_acc: 0.8257\n",
      "\n",
      "Epoch 00029: saving model to ./models\\model2-29.hdf5\n",
      "Epoch 30/30\n",
      "1445/1445 [==============================] - 459s 318ms/step - loss: 0.5512 - acc: 0.8220 - val_loss: 0.5481 - val_acc: 0.8257\n",
      "\n",
      "Epoch 00030: saving model to ./models\\model2-30.hdf5\n"
     ]
    },
    {
     "output_type": "execute_result",
     "data": {
      "text/plain": [
       "<keras.callbacks.History at 0x17aabd096c8>"
      ]
     },
     "metadata": {},
     "execution_count": 13
    }
   ],
   "source": [
    "# 模型训练和预测\n",
    "model_path2 = './models/model2-{epoch:02d}.hdf5'\n",
    "checkpointer2 = ModelCheckpoint(model_path2, monitor='val_acc', verbose=1, save_best_only=False, mode='max')\n",
    "# train_index2 = np.array(train_index2)\n",
    "# train_label2 = np.array(train_label2)\n",
    "# test_index2 = np.array(test_index2)\n",
    "# test_label2 = np.array(test_label2)\n",
    "# model2.fit(train_index2, train_label2, batch_size=32, epochs=2, validation_data=(test_index2, test_label2), callbacks=[checkpointer2])\n",
    "model2.fit(train_index, train_label, batch_size=32, epochs=30, validation_data=(test_index, test_label), callbacks=[checkpointer2])"
   ]
  },
  {
   "cell_type": "code",
   "execution_count": 37,
   "metadata": {
    "tags": []
   },
   "outputs": [
    {
     "output_type": "stream",
     "name": "stdout",
     "text": [
      "290/290 [==============================] - 7s 24ms/step - loss: 0.5481 - acc: 0.8257\n"
     ]
    },
    {
     "output_type": "execute_result",
     "data": {
      "text/plain": [
       "(0.5481305122375488, 0.8257485628128052, 0.49986909281319547)"
      ]
     },
     "metadata": {},
     "execution_count": 37
    },
    {
     "output_type": "display_data",
     "data": {
      "text/plain": "<Figure size 432x288 with 1 Axes>",
      "image/svg+xml": "<?xml version=\"1.0\" encoding=\"utf-8\" standalone=\"no\"?>\r\n<!DOCTYPE svg PUBLIC \"-//W3C//DTD SVG 1.1//EN\"\r\n  \"http://www.w3.org/Graphics/SVG/1.1/DTD/svg11.dtd\">\r\n<svg height=\"248.518125pt\" version=\"1.1\" viewBox=\"0 0 372.103125 248.518125\" width=\"372.103125pt\" xmlns=\"http://www.w3.org/2000/svg\" xmlns:xlink=\"http://www.w3.org/1999/xlink\">\r\n <metadata>\r\n  <rdf:RDF xmlns:cc=\"http://creativecommons.org/ns#\" xmlns:dc=\"http://purl.org/dc/elements/1.1/\" xmlns:rdf=\"http://www.w3.org/1999/02/22-rdf-syntax-ns#\">\r\n   <cc:Work>\r\n    <dc:type rdf:resource=\"http://purl.org/dc/dcmitype/StillImage\"/>\r\n    <dc:date>2021-06-20T16:20:41.252760</dc:date>\r\n    <dc:format>image/svg+xml</dc:format>\r\n    <dc:creator>\r\n     <cc:Agent>\r\n      <dc:title>Matplotlib v3.4.2, https://matplotlib.org/</dc:title>\r\n     </cc:Agent>\r\n    </dc:creator>\r\n   </cc:Work>\r\n  </rdf:RDF>\r\n </metadata>\r\n <defs>\r\n  <style type=\"text/css\">*{stroke-linecap:butt;stroke-linejoin:round;}</style>\r\n </defs>\r\n <g id=\"figure_1\">\r\n  <g id=\"patch_1\">\r\n   <path d=\"M 0 248.518125 \r\nL 372.103125 248.518125 \r\nL 372.103125 0 \r\nL 0 0 \r\nz\r\n\" style=\"fill:none;\"/>\r\n  </g>\r\n  <g id=\"axes_1\">\r\n   <g id=\"patch_2\">\r\n    <path d=\"M 30.103125 224.64 \r\nL 364.903125 224.64 \r\nL 364.903125 7.2 \r\nL 30.103125 7.2 \r\nz\r\n\" style=\"fill:#ffffff;\"/>\r\n   </g>\r\n   <g id=\"matplotlib.axis_1\">\r\n    <g id=\"xtick_1\">\r\n     <g id=\"line2d_1\">\r\n      <defs>\r\n       <path d=\"M 0 0 \r\nL 0 3.5 \r\n\" id=\"m6ff1fb317e\" style=\"stroke:#000000;stroke-width:0.8;\"/>\r\n      </defs>\r\n      <g>\r\n       <use style=\"stroke:#000000;stroke-width:0.8;\" x=\"45.321307\" xlink:href=\"#m6ff1fb317e\" y=\"224.64\"/>\r\n      </g>\r\n     </g>\r\n     <g id=\"text_1\">\r\n      <!-- 0.0 -->\r\n      <g transform=\"translate(37.369744 239.238437)scale(0.1 -0.1)\">\r\n       <defs>\r\n        <path d=\"M 2034 4250 \r\nQ 1547 4250 1301 3770 \r\nQ 1056 3291 1056 2328 \r\nQ 1056 1369 1301 889 \r\nQ 1547 409 2034 409 \r\nQ 2525 409 2770 889 \r\nQ 3016 1369 3016 2328 \r\nQ 3016 3291 2770 3770 \r\nQ 2525 4250 2034 4250 \r\nz\r\nM 2034 4750 \r\nQ 2819 4750 3233 4129 \r\nQ 3647 3509 3647 2328 \r\nQ 3647 1150 3233 529 \r\nQ 2819 -91 2034 -91 \r\nQ 1250 -91 836 529 \r\nQ 422 1150 422 2328 \r\nQ 422 3509 836 4129 \r\nQ 1250 4750 2034 4750 \r\nz\r\n\" id=\"DejaVuSans-30\" transform=\"scale(0.015625)\"/>\r\n        <path d=\"M 684 794 \r\nL 1344 794 \r\nL 1344 0 \r\nL 684 0 \r\nL 684 794 \r\nz\r\n\" id=\"DejaVuSans-2e\" transform=\"scale(0.015625)\"/>\r\n       </defs>\r\n       <use xlink:href=\"#DejaVuSans-30\"/>\r\n       <use x=\"63.623047\" xlink:href=\"#DejaVuSans-2e\"/>\r\n       <use x=\"95.410156\" xlink:href=\"#DejaVuSans-30\"/>\r\n      </g>\r\n     </g>\r\n    </g>\r\n    <g id=\"xtick_2\">\r\n     <g id=\"line2d_2\">\r\n      <g>\r\n       <use style=\"stroke:#000000;stroke-width:0.8;\" x=\"106.194034\" xlink:href=\"#m6ff1fb317e\" y=\"224.64\"/>\r\n      </g>\r\n     </g>\r\n     <g id=\"text_2\">\r\n      <!-- 0.2 -->\r\n      <g transform=\"translate(98.242472 239.238437)scale(0.1 -0.1)\">\r\n       <defs>\r\n        <path d=\"M 1228 531 \r\nL 3431 531 \r\nL 3431 0 \r\nL 469 0 \r\nL 469 531 \r\nQ 828 903 1448 1529 \r\nQ 2069 2156 2228 2338 \r\nQ 2531 2678 2651 2914 \r\nQ 2772 3150 2772 3378 \r\nQ 2772 3750 2511 3984 \r\nQ 2250 4219 1831 4219 \r\nQ 1534 4219 1204 4116 \r\nQ 875 4013 500 3803 \r\nL 500 4441 \r\nQ 881 4594 1212 4672 \r\nQ 1544 4750 1819 4750 \r\nQ 2544 4750 2975 4387 \r\nQ 3406 4025 3406 3419 \r\nQ 3406 3131 3298 2873 \r\nQ 3191 2616 2906 2266 \r\nQ 2828 2175 2409 1742 \r\nQ 1991 1309 1228 531 \r\nz\r\n\" id=\"DejaVuSans-32\" transform=\"scale(0.015625)\"/>\r\n       </defs>\r\n       <use xlink:href=\"#DejaVuSans-30\"/>\r\n       <use x=\"63.623047\" xlink:href=\"#DejaVuSans-2e\"/>\r\n       <use x=\"95.410156\" xlink:href=\"#DejaVuSans-32\"/>\r\n      </g>\r\n     </g>\r\n    </g>\r\n    <g id=\"xtick_3\">\r\n     <g id=\"line2d_3\">\r\n      <g>\r\n       <use style=\"stroke:#000000;stroke-width:0.8;\" x=\"167.066761\" xlink:href=\"#m6ff1fb317e\" y=\"224.64\"/>\r\n      </g>\r\n     </g>\r\n     <g id=\"text_3\">\r\n      <!-- 0.4 -->\r\n      <g transform=\"translate(159.115199 239.238437)scale(0.1 -0.1)\">\r\n       <defs>\r\n        <path d=\"M 2419 4116 \r\nL 825 1625 \r\nL 2419 1625 \r\nL 2419 4116 \r\nz\r\nM 2253 4666 \r\nL 3047 4666 \r\nL 3047 1625 \r\nL 3713 1625 \r\nL 3713 1100 \r\nL 3047 1100 \r\nL 3047 0 \r\nL 2419 0 \r\nL 2419 1100 \r\nL 313 1100 \r\nL 313 1709 \r\nL 2253 4666 \r\nz\r\n\" id=\"DejaVuSans-34\" transform=\"scale(0.015625)\"/>\r\n       </defs>\r\n       <use xlink:href=\"#DejaVuSans-30\"/>\r\n       <use x=\"63.623047\" xlink:href=\"#DejaVuSans-2e\"/>\r\n       <use x=\"95.410156\" xlink:href=\"#DejaVuSans-34\"/>\r\n      </g>\r\n     </g>\r\n    </g>\r\n    <g id=\"xtick_4\">\r\n     <g id=\"line2d_4\">\r\n      <g>\r\n       <use style=\"stroke:#000000;stroke-width:0.8;\" x=\"227.939489\" xlink:href=\"#m6ff1fb317e\" y=\"224.64\"/>\r\n      </g>\r\n     </g>\r\n     <g id=\"text_4\">\r\n      <!-- 0.6 -->\r\n      <g transform=\"translate(219.987926 239.238437)scale(0.1 -0.1)\">\r\n       <defs>\r\n        <path d=\"M 2113 2584 \r\nQ 1688 2584 1439 2293 \r\nQ 1191 2003 1191 1497 \r\nQ 1191 994 1439 701 \r\nQ 1688 409 2113 409 \r\nQ 2538 409 2786 701 \r\nQ 3034 994 3034 1497 \r\nQ 3034 2003 2786 2293 \r\nQ 2538 2584 2113 2584 \r\nz\r\nM 3366 4563 \r\nL 3366 3988 \r\nQ 3128 4100 2886 4159 \r\nQ 2644 4219 2406 4219 \r\nQ 1781 4219 1451 3797 \r\nQ 1122 3375 1075 2522 \r\nQ 1259 2794 1537 2939 \r\nQ 1816 3084 2150 3084 \r\nQ 2853 3084 3261 2657 \r\nQ 3669 2231 3669 1497 \r\nQ 3669 778 3244 343 \r\nQ 2819 -91 2113 -91 \r\nQ 1303 -91 875 529 \r\nQ 447 1150 447 2328 \r\nQ 447 3434 972 4092 \r\nQ 1497 4750 2381 4750 \r\nQ 2619 4750 2861 4703 \r\nQ 3103 4656 3366 4563 \r\nz\r\n\" id=\"DejaVuSans-36\" transform=\"scale(0.015625)\"/>\r\n       </defs>\r\n       <use xlink:href=\"#DejaVuSans-30\"/>\r\n       <use x=\"63.623047\" xlink:href=\"#DejaVuSans-2e\"/>\r\n       <use x=\"95.410156\" xlink:href=\"#DejaVuSans-36\"/>\r\n      </g>\r\n     </g>\r\n    </g>\r\n    <g id=\"xtick_5\">\r\n     <g id=\"line2d_5\">\r\n      <g>\r\n       <use style=\"stroke:#000000;stroke-width:0.8;\" x=\"288.812216\" xlink:href=\"#m6ff1fb317e\" y=\"224.64\"/>\r\n      </g>\r\n     </g>\r\n     <g id=\"text_5\">\r\n      <!-- 0.8 -->\r\n      <g transform=\"translate(280.860653 239.238437)scale(0.1 -0.1)\">\r\n       <defs>\r\n        <path d=\"M 2034 2216 \r\nQ 1584 2216 1326 1975 \r\nQ 1069 1734 1069 1313 \r\nQ 1069 891 1326 650 \r\nQ 1584 409 2034 409 \r\nQ 2484 409 2743 651 \r\nQ 3003 894 3003 1313 \r\nQ 3003 1734 2745 1975 \r\nQ 2488 2216 2034 2216 \r\nz\r\nM 1403 2484 \r\nQ 997 2584 770 2862 \r\nQ 544 3141 544 3541 \r\nQ 544 4100 942 4425 \r\nQ 1341 4750 2034 4750 \r\nQ 2731 4750 3128 4425 \r\nQ 3525 4100 3525 3541 \r\nQ 3525 3141 3298 2862 \r\nQ 3072 2584 2669 2484 \r\nQ 3125 2378 3379 2068 \r\nQ 3634 1759 3634 1313 \r\nQ 3634 634 3220 271 \r\nQ 2806 -91 2034 -91 \r\nQ 1263 -91 848 271 \r\nQ 434 634 434 1313 \r\nQ 434 1759 690 2068 \r\nQ 947 2378 1403 2484 \r\nz\r\nM 1172 3481 \r\nQ 1172 3119 1398 2916 \r\nQ 1625 2713 2034 2713 \r\nQ 2441 2713 2670 2916 \r\nQ 2900 3119 2900 3481 \r\nQ 2900 3844 2670 4047 \r\nQ 2441 4250 2034 4250 \r\nQ 1625 4250 1398 4047 \r\nQ 1172 3844 1172 3481 \r\nz\r\n\" id=\"DejaVuSans-38\" transform=\"scale(0.015625)\"/>\r\n       </defs>\r\n       <use xlink:href=\"#DejaVuSans-30\"/>\r\n       <use x=\"63.623047\" xlink:href=\"#DejaVuSans-2e\"/>\r\n       <use x=\"95.410156\" xlink:href=\"#DejaVuSans-38\"/>\r\n      </g>\r\n     </g>\r\n    </g>\r\n    <g id=\"xtick_6\">\r\n     <g id=\"line2d_6\">\r\n      <g>\r\n       <use style=\"stroke:#000000;stroke-width:0.8;\" x=\"349.684943\" xlink:href=\"#m6ff1fb317e\" y=\"224.64\"/>\r\n      </g>\r\n     </g>\r\n     <g id=\"text_6\">\r\n      <!-- 1.0 -->\r\n      <g transform=\"translate(341.733381 239.238437)scale(0.1 -0.1)\">\r\n       <defs>\r\n        <path d=\"M 794 531 \r\nL 1825 531 \r\nL 1825 4091 \r\nL 703 3866 \r\nL 703 4441 \r\nL 1819 4666 \r\nL 2450 4666 \r\nL 2450 531 \r\nL 3481 531 \r\nL 3481 0 \r\nL 794 0 \r\nL 794 531 \r\nz\r\n\" id=\"DejaVuSans-31\" transform=\"scale(0.015625)\"/>\r\n       </defs>\r\n       <use xlink:href=\"#DejaVuSans-31\"/>\r\n       <use x=\"63.623047\" xlink:href=\"#DejaVuSans-2e\"/>\r\n       <use x=\"95.410156\" xlink:href=\"#DejaVuSans-30\"/>\r\n      </g>\r\n     </g>\r\n    </g>\r\n   </g>\r\n   <g id=\"matplotlib.axis_2\">\r\n    <g id=\"ytick_1\">\r\n     <g id=\"line2d_7\">\r\n      <defs>\r\n       <path d=\"M 0 0 \r\nL -3.5 0 \r\n\" id=\"md53533aec2\" style=\"stroke:#000000;stroke-width:0.8;\"/>\r\n      </defs>\r\n      <g>\r\n       <use style=\"stroke:#000000;stroke-width:0.8;\" x=\"30.103125\" xlink:href=\"#md53533aec2\" y=\"214.756364\"/>\r\n      </g>\r\n     </g>\r\n     <g id=\"text_7\">\r\n      <!-- 0.0 -->\r\n      <g transform=\"translate(7.2 218.555582)scale(0.1 -0.1)\">\r\n       <use xlink:href=\"#DejaVuSans-30\"/>\r\n       <use x=\"63.623047\" xlink:href=\"#DejaVuSans-2e\"/>\r\n       <use x=\"95.410156\" xlink:href=\"#DejaVuSans-30\"/>\r\n      </g>\r\n     </g>\r\n    </g>\r\n    <g id=\"ytick_2\">\r\n     <g id=\"line2d_8\">\r\n      <g>\r\n       <use style=\"stroke:#000000;stroke-width:0.8;\" x=\"30.103125\" xlink:href=\"#md53533aec2\" y=\"175.221818\"/>\r\n      </g>\r\n     </g>\r\n     <g id=\"text_8\">\r\n      <!-- 0.2 -->\r\n      <g transform=\"translate(7.2 179.021037)scale(0.1 -0.1)\">\r\n       <use xlink:href=\"#DejaVuSans-30\"/>\r\n       <use x=\"63.623047\" xlink:href=\"#DejaVuSans-2e\"/>\r\n       <use x=\"95.410156\" xlink:href=\"#DejaVuSans-32\"/>\r\n      </g>\r\n     </g>\r\n    </g>\r\n    <g id=\"ytick_3\">\r\n     <g id=\"line2d_9\">\r\n      <g>\r\n       <use style=\"stroke:#000000;stroke-width:0.8;\" x=\"30.103125\" xlink:href=\"#md53533aec2\" y=\"135.687273\"/>\r\n      </g>\r\n     </g>\r\n     <g id=\"text_9\">\r\n      <!-- 0.4 -->\r\n      <g transform=\"translate(7.2 139.486491)scale(0.1 -0.1)\">\r\n       <use xlink:href=\"#DejaVuSans-30\"/>\r\n       <use x=\"63.623047\" xlink:href=\"#DejaVuSans-2e\"/>\r\n       <use x=\"95.410156\" xlink:href=\"#DejaVuSans-34\"/>\r\n      </g>\r\n     </g>\r\n    </g>\r\n    <g id=\"ytick_4\">\r\n     <g id=\"line2d_10\">\r\n      <g>\r\n       <use style=\"stroke:#000000;stroke-width:0.8;\" x=\"30.103125\" xlink:href=\"#md53533aec2\" y=\"96.152727\"/>\r\n      </g>\r\n     </g>\r\n     <g id=\"text_10\">\r\n      <!-- 0.6 -->\r\n      <g transform=\"translate(7.2 99.951946)scale(0.1 -0.1)\">\r\n       <use xlink:href=\"#DejaVuSans-30\"/>\r\n       <use x=\"63.623047\" xlink:href=\"#DejaVuSans-2e\"/>\r\n       <use x=\"95.410156\" xlink:href=\"#DejaVuSans-36\"/>\r\n      </g>\r\n     </g>\r\n    </g>\r\n    <g id=\"ytick_5\">\r\n     <g id=\"line2d_11\">\r\n      <g>\r\n       <use style=\"stroke:#000000;stroke-width:0.8;\" x=\"30.103125\" xlink:href=\"#md53533aec2\" y=\"56.618182\"/>\r\n      </g>\r\n     </g>\r\n     <g id=\"text_11\">\r\n      <!-- 0.8 -->\r\n      <g transform=\"translate(7.2 60.417401)scale(0.1 -0.1)\">\r\n       <use xlink:href=\"#DejaVuSans-30\"/>\r\n       <use x=\"63.623047\" xlink:href=\"#DejaVuSans-2e\"/>\r\n       <use x=\"95.410156\" xlink:href=\"#DejaVuSans-38\"/>\r\n      </g>\r\n     </g>\r\n    </g>\r\n    <g id=\"ytick_6\">\r\n     <g id=\"line2d_12\">\r\n      <g>\r\n       <use style=\"stroke:#000000;stroke-width:0.8;\" x=\"30.103125\" xlink:href=\"#md53533aec2\" y=\"17.083636\"/>\r\n      </g>\r\n     </g>\r\n     <g id=\"text_12\">\r\n      <!-- 1.0 -->\r\n      <g transform=\"translate(7.2 20.882855)scale(0.1 -0.1)\">\r\n       <use xlink:href=\"#DejaVuSans-31\"/>\r\n       <use x=\"63.623047\" xlink:href=\"#DejaVuSans-2e\"/>\r\n       <use x=\"95.410156\" xlink:href=\"#DejaVuSans-30\"/>\r\n      </g>\r\n     </g>\r\n    </g>\r\n   </g>\r\n   <g id=\"line2d_13\">\r\n    <path clip-path=\"url(#p324d3740a3)\" d=\"M 45.321307 214.756364 \r\nL 349.684943 17.13539 \r\nL 349.684943 17.083636 \r\n\" style=\"fill:none;stroke:#1f77b4;stroke-linecap:square;stroke-width:1.5;\"/>\r\n   </g>\r\n   <g id=\"patch_3\">\r\n    <path d=\"M 30.103125 224.64 \r\nL 30.103125 7.2 \r\n\" style=\"fill:none;stroke:#000000;stroke-linecap:square;stroke-linejoin:miter;stroke-width:0.8;\"/>\r\n   </g>\r\n   <g id=\"patch_4\">\r\n    <path d=\"M 364.903125 224.64 \r\nL 364.903125 7.2 \r\n\" style=\"fill:none;stroke:#000000;stroke-linecap:square;stroke-linejoin:miter;stroke-width:0.8;\"/>\r\n   </g>\r\n   <g id=\"patch_5\">\r\n    <path d=\"M 30.103125 224.64 \r\nL 364.903125 224.64 \r\n\" style=\"fill:none;stroke:#000000;stroke-linecap:square;stroke-linejoin:miter;stroke-width:0.8;\"/>\r\n   </g>\r\n   <g id=\"patch_6\">\r\n    <path d=\"M 30.103125 7.2 \r\nL 364.903125 7.2 \r\n\" style=\"fill:none;stroke:#000000;stroke-linecap:square;stroke-linejoin:miter;stroke-width:0.8;\"/>\r\n   </g>\r\n  </g>\r\n </g>\r\n <defs>\r\n  <clipPath id=\"p324d3740a3\">\r\n   <rect height=\"217.44\" width=\"334.8\" x=\"30.103125\" y=\"7.2\"/>\r\n  </clipPath>\r\n </defs>\r\n</svg>\r\n",
      "image/png": "[encoded data removed]"
     },
     "metadata": {
      "needs_background": "light"
     }
    }
   ],
   "source": [
    "# # 预测\n",
    "modelnew2 = load_model('./models/model2-27.hdf5')\n",
    "predict_label2 = modelnew2.predict(test_index)\n",
    "fpr,tpr,thr = roc_curve(test_label,modelnew2.predict(test_index), pos_label=1)\n",
    "auc2 = auc(fpr,tpr)\n",
    "plt.plot(fpr,tpr)\n",
    "loss2, acc2 = modelnew2.evaluate(test_index, test_label, batch_size=32)\n",
    "loss2, acc2, auc2"
   ]
  },
  {
   "source": [
    "# ROC图像绘制以及AUC计算\n",
    "注：新版本的keras不能运行predict_proba(),会自动修改为predict()"
   ],
   "cell_type": "markdown",
   "metadata": {}
  },
  {
   "cell_type": "code",
   "execution_count": 30,
   "metadata": {},
   "outputs": [
    {
     "output_type": "stream",
     "name": "stderr",
     "text": [
      "C:\\Users\\z2000\\AppData\\Roaming\\Python\\Python37\\site-packages\\keras\\engine\\sequential.py:425: UserWarning: `model.predict_proba()` is deprecated and will be removed after 2021-01-01. Please use `model.predict()` instead.\n",
      "  warnings.warn('`model.predict_proba()` is deprecated and '\n",
      "(9251, 1) (9251, 3)\n"
     ]
    },
    {
     "output_type": "error",
     "ename": "ValueError",
     "evalue": "multi_class must be in ('ovo', 'ovr')",
     "traceback": [
      "\u001b[1;31m---------------------------------------------------------------------------\u001b[0m",
      "\u001b[1;31mValueError\u001b[0m                                Traceback (most recent call last)",
      "\u001b[1;32m<ipython-input-30-23df7851f3ff>\u001b[0m in \u001b[0;36m<module>\u001b[1;34m\u001b[0m\n\u001b[0;32m     25\u001b[0m     \u001b[0maxes\u001b[0m\u001b[1;33m[\u001b[0m\u001b[0mint\u001b[0m\u001b[1;33m(\u001b[0m\u001b[0mi\u001b[0m\u001b[1;33m/\u001b[0m\u001b[1;36m2\u001b[0m\u001b[1;33m)\u001b[0m\u001b[1;33m,\u001b[0m\u001b[0mi\u001b[0m\u001b[1;33m%\u001b[0m\u001b[1;36m2\u001b[0m\u001b[1;33m]\u001b[0m\u001b[1;33m.\u001b[0m\u001b[0mlegend\u001b[0m\u001b[1;33m(\u001b[0m\u001b[0mloc\u001b[0m\u001b[1;33m=\u001b[0m\u001b[1;34m\"lower right\"\u001b[0m\u001b[1;33m)\u001b[0m\u001b[1;33m\u001b[0m\u001b[1;33m\u001b[0m\u001b[0m\n\u001b[0;32m     26\u001b[0m '''\n\u001b[1;32m---> 27\u001b[1;33m \u001b[0mprint\u001b[0m\u001b[1;33m(\u001b[0m\u001b[1;34m\"AUC:\"\u001b[0m\u001b[1;33m,\u001b[0m\u001b[0mroc_auc_score\u001b[0m\u001b[1;33m(\u001b[0m\u001b[0mtest_label\u001b[0m\u001b[1;33m,\u001b[0m\u001b[0mpredict_label\u001b[0m\u001b[1;33m)\u001b[0m\u001b[1;33m)\u001b[0m\u001b[1;33m\u001b[0m\u001b[1;33m\u001b[0m\u001b[0m\n\u001b[0m",
      "\u001b[1;32m~\\AppData\\Roaming\\Python\\Python37\\site-packages\\sklearn\\utils\\validation.py\u001b[0m in \u001b[0;36minner_f\u001b[1;34m(*args, **kwargs)\u001b[0m\n\u001b[0;32m     61\u001b[0m             \u001b[0mextra_args\u001b[0m \u001b[1;33m=\u001b[0m \u001b[0mlen\u001b[0m\u001b[1;33m(\u001b[0m\u001b[0margs\u001b[0m\u001b[1;33m)\u001b[0m \u001b[1;33m-\u001b[0m \u001b[0mlen\u001b[0m\u001b[1;33m(\u001b[0m\u001b[0mall_args\u001b[0m\u001b[1;33m)\u001b[0m\u001b[1;33m\u001b[0m\u001b[1;33m\u001b[0m\u001b[0m\n\u001b[0;32m     62\u001b[0m             \u001b[1;32mif\u001b[0m \u001b[0mextra_args\u001b[0m \u001b[1;33m<=\u001b[0m \u001b[1;36m0\u001b[0m\u001b[1;33m:\u001b[0m\u001b[1;33m\u001b[0m\u001b[1;33m\u001b[0m\u001b[0m\n\u001b[1;32m---> 63\u001b[1;33m                 \u001b[1;32mreturn\u001b[0m \u001b[0mf\u001b[0m\u001b[1;33m(\u001b[0m\u001b[1;33m*\u001b[0m\u001b[0margs\u001b[0m\u001b[1;33m,\u001b[0m \u001b[1;33m**\u001b[0m\u001b[0mkwargs\u001b[0m\u001b[1;33m)\u001b[0m\u001b[1;33m\u001b[0m\u001b[1;33m\u001b[0m\u001b[0m\n\u001b[0m\u001b[0;32m     64\u001b[0m \u001b[1;33m\u001b[0m\u001b[0m\n\u001b[0;32m     65\u001b[0m             \u001b[1;31m# extra_args > 0\u001b[0m\u001b[1;33m\u001b[0m\u001b[1;33m\u001b[0m\u001b[1;33m\u001b[0m\u001b[0m\n",
      "\u001b[1;32m~\\AppData\\Roaming\\Python\\Python37\\site-packages\\sklearn\\metrics\\_ranking.py\u001b[0m in \u001b[0;36mroc_auc_score\u001b[1;34m(y_true, y_score, average, sample_weight, max_fpr, multi_class, labels)\u001b[0m\n\u001b[0;32m    534\u001b[0m                              \"instead\".format(max_fpr))\n\u001b[0;32m    535\u001b[0m         \u001b[1;32mif\u001b[0m \u001b[0mmulti_class\u001b[0m \u001b[1;33m==\u001b[0m \u001b[1;34m'raise'\u001b[0m\u001b[1;33m:\u001b[0m\u001b[1;33m\u001b[0m\u001b[1;33m\u001b[0m\u001b[0m\n\u001b[1;32m--> 536\u001b[1;33m             \u001b[1;32mraise\u001b[0m \u001b[0mValueError\u001b[0m\u001b[1;33m(\u001b[0m\u001b[1;34m\"multi_class must be in ('ovo', 'ovr')\"\u001b[0m\u001b[1;33m)\u001b[0m\u001b[1;33m\u001b[0m\u001b[1;33m\u001b[0m\u001b[0m\n\u001b[0m\u001b[0;32m    537\u001b[0m         return _multiclass_roc_auc_score(y_true, y_score, labels,\n\u001b[0;32m    538\u001b[0m                                          multi_class, average, sample_weight)\n",
      "\u001b[1;31mValueError\u001b[0m: multi_class must be in ('ovo', 'ovr')"
     ]
    }
   ],
   "source": [
    "%matplotlib inline\n",
    "import matplotlib.pyplot as plt\n",
    "import numpy as np\n",
    "from sklearn.svm import SVC\n",
    "from sklearn.metrics import roc_curve, roc_auc_score, auc, plot_roc_curve\n",
    "from sklearn.multiclass import OneVsOneClassifier, OneVsRestClassifier\n",
    "from sklearn.preprocessing import label_binarize\n",
    "from sklearn import datasets\n",
    "from sklearn.model_selection import train_test_split\n",
    "#训练样本类别\n",
    "n_classes = 3\n",
    "test_score = modelnew1.predict_proba(test_index)\n",
    "fig, axes = plt.subplots(2,2,figsize=(8,8))\n",
    "colors = [\"r\", \"g\", \"b\"]\n",
    "markers = [\"o\", \"^\", \"v\"]\n",
    "test_label2 = label_binarize(test_label, classes=[-1,0,1])\n",
    "print(test_score.shape, test_label2.shape)\n",
    "for i in range(0):\n",
    "    fpr,tpr,thr = roc_curve(test_label2[:,i], test_score[:,i])\n",
    "    axes[int(i/2), i%2].plot(fpr,tpr,color=colors[i], marker=markers[i],label=\"AUC:{:.2f}\".format(auc(fpr,tpr)))\n",
    "    axes[int(i/2),i%2].set_xlabel(\"FPR\")\n",
    "    axes[int(i/2),i%2].set_ylabel(\"TPR\")\n",
    "    #axes[int(i/2),i%2].set_title(\"class_{}\".format(modelnew1.classes_[i]))\n",
    "    axes[int(i/2),i%2].legend(loc=\"lower right\")\n",
    "print(\"AUC:\",roc_auc_score(test_label2,test_score,multi_class=\"ovr\"))\n"
   ]
  },
  {
   "cell_type": "code",
   "execution_count": null,
   "metadata": {},
   "outputs": [],
   "source": []
  }
 ]
}